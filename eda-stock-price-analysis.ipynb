{
 "cells": [
  {
   "cell_type": "markdown",
   "metadata": {},
   "source": [
    "# ONLINE RETAIL DATA_SET"
   ]
  },
  {
   "cell_type": "markdown",
   "metadata": {},
   "source": [
    "## **Table of Content**\n"
   ]
  },
  {
   "cell_type": "markdown",
   "metadata": {},
   "source": [
    "### **1. Introduction**\n",
    "     1.1 Data Description\n",
    "     1.2 Features Description\n",
    "     1.3 Objective of this project\n",
    "  \n",
    "\n",
    "### **2. Fetching Data**\n",
    "    2.1 Import packages\n",
    "    2.2 Import data\n",
    "\n",
    "### **3. EDA**\n",
    "      **YEARLY DATA SUMARY\n",
    "      3.1 Question-1\n",
    "      3.2 Question-2\n",
    "      3.3 Question-3\n",
    "      3.4 Question-4\n",
    "      3.5 Question-5\n",
    "      3.6 Question-6"
   ]
  },
  {
   "cell_type": "markdown",
   "metadata": {},
   "source": [
    "# 1. Introduction:"
   ]
  },
  {
   "cell_type": "markdown",
   "metadata": {},
   "source": [
    "add intro to data. "
   ]
  },
  {
   "cell_type": "markdown",
   "metadata": {},
   "source": [
    "## 1.1  Data description"
   ]
  },
  {
   "cell_type": "markdown",
   "metadata": {},
   "source": [
    "add coloumn names here"
   ]
  },
  {
   "cell_type": "markdown",
   "metadata": {},
   "source": [
    "## 1.2 Features Description"
   ]
  },
  {
   "cell_type": "markdown",
   "metadata": {},
   "source": [
    "**1. Categorical Attributes**\n",
    " * **workclass**:  Private, Self-emp-not-inc, Self-emp-inc, Federal-gov, Local-gov, State-gov, Without-pay, Never-worked.\n",
    "  -  Individual work category  \n",
    " * **education**: Bachelors, Some-college, 11th, HS-grad, Prof-school, Assoc-acdm, Assoc-voc, 9th, 7th-8th, 12th, Masters, 1st-4th, 10th, Doctorate, 5th-6th, Preschool.\n",
    "  -  Individual's highest education degree  \n",
    " * **marital-status**: Married-civ-spouse, Divorced, Never-married, Separated, Widowed, Married-spouse-absent, Married-AF-spouse.\n",
    "  -  Individual marital status  \n",
    " * **occupation**:  Tech-support, Craft-repair, Other-service, Sales, Exec-managerial, Prof-specialty, Handlers-cleaners, Machine-op-inspct, Adm-clerical, Farming-fishing, Transport-moving, Priv-house-serv, Protective-serv, Armed-Forces.\n",
    "  -  Individual's occupation  \n",
    " * **relationship**:  Wife, Own-child, Husband, Not-in-family, Other-relative, Unmarried.\n",
    "  -  Individual's relation in a family   \n",
    " * ** race**:  White, Asian-Pac-Islander, Amer-Indian-Eskimo, Other, Black.\n",
    "  -  Race of Individual   \n",
    " * **sex**:  Female, Male.\n",
    " * **native-country**:  United-States, Cambodia, England, Puerto-Rico, Canada, Germany, Outlying-US(Guam-USVI-etc), India, Japan, Greece, South, China, Cuba, Iran, Honduras, Philippines, Italy, Poland, Jamaica, Vietnam, Mexico, Portugal, Ireland, France, Dominican-Republic, Laos, Ecuador, Taiwan, Haiti, Columbia, Hungary, Guatemala, Nicaragua, Scotland, Thailand, Yugoslavia, El-Salvador, Trinadad&Tobago, Peru, Hong, Holand-Netherlands.\n",
    "  -  Individual's native country   "
   ]
  },
  {
   "cell_type": "markdown",
   "metadata": {},
   "source": [
    "## 1.3 Objective of this project"
   ]
  },
  {
   "cell_type": "markdown",
   "metadata": {},
   "source": [
    "To perform EDA on the given Data Set"
   ]
  },
  {
   "cell_type": "markdown",
   "metadata": {},
   "source": [
    "# 2. Fetching Data:"
   ]
  },
  {
   "cell_type": "markdown",
   "metadata": {},
   "source": [
    "## 2.1 Import packages"
   ]
  },
  {
   "cell_type": "code",
   "execution_count": 1,
   "metadata": {
    "_cell_guid": "b1076dfc-b9ad-4769-8c92-a6c4dae69d19",
    "_uuid": "8f2839f25d086af736a60e9eeb907d3b93b6e0e5",
    "execution": {
     "iopub.execute_input": "2022-07-02T19:22:18.046854Z",
     "iopub.status.busy": "2022-07-02T19:22:18.046466Z",
     "iopub.status.idle": "2022-07-02T19:22:18.053078Z",
     "shell.execute_reply": "2022-07-02T19:22:18.052234Z",
     "shell.execute_reply.started": "2022-07-02T19:22:18.046792Z"
    }
   },
   "outputs": [],
   "source": [
    "import numpy as np \n",
    "import pandas as pd \n",
    "import seaborn as sns\n",
    "import matplotlib.pyplot as plt\n",
    "%matplotlib inline\n",
    "import warnings\n",
    "warnings.filterwarnings(\"ignore\")\n",
    "from scipy.stats import ttest_ind, ttest_rel\n",
    "from scipy import stats"
   ]
  },
  {
   "cell_type": "markdown",
   "metadata": {},
   "source": [
    "## 2.2 Import data"
   ]
  },
  {
   "cell_type": "code",
   "execution_count": 2,
   "metadata": {
    "_cell_guid": "79c7e3d0-c299-4dcb-8224-4455121ee9b0",
    "_uuid": "d629ff2d2480ee46fbb7e2d37f6b5fab8052498a",
    "execution": {
     "iopub.execute_input": "2022-07-02T16:16:36.856381Z",
     "iopub.status.busy": "2022-07-02T16:16:36.855745Z",
     "iopub.status.idle": "2022-07-02T16:16:36.889102Z",
     "shell.execute_reply": "2022-07-02T16:16:36.888452Z",
     "shell.execute_reply.started": "2022-07-02T16:16:36.856326Z"
    }
   },
   "outputs": [
    {
     "data": {
      "text/html": [
       "<div>\n",
       "<style scoped>\n",
       "    .dataframe tbody tr th:only-of-type {\n",
       "        vertical-align: middle;\n",
       "    }\n",
       "\n",
       "    .dataframe tbody tr th {\n",
       "        vertical-align: top;\n",
       "    }\n",
       "\n",
       "    .dataframe thead th {\n",
       "        text-align: right;\n",
       "    }\n",
       "</style>\n",
       "<table border=\"1\" class=\"dataframe\">\n",
       "  <thead>\n",
       "    <tr style=\"text-align: right;\">\n",
       "      <th></th>\n",
       "      <th>Date</th>\n",
       "      <th>Open</th>\n",
       "      <th>High</th>\n",
       "      <th>Low</th>\n",
       "      <th>Close</th>\n",
       "      <th>Volume</th>\n",
       "      <th>Stock Trading</th>\n",
       "    </tr>\n",
       "  </thead>\n",
       "  <tbody>\n",
       "    <tr>\n",
       "      <th>0</th>\n",
       "      <td>2016-12-30</td>\n",
       "      <td>42120</td>\n",
       "      <td>42330</td>\n",
       "      <td>41700</td>\n",
       "      <td>41830</td>\n",
       "      <td>610000</td>\n",
       "      <td>25628028000</td>\n",
       "    </tr>\n",
       "    <tr>\n",
       "      <th>1</th>\n",
       "      <td>2016-12-29</td>\n",
       "      <td>43000</td>\n",
       "      <td>43220</td>\n",
       "      <td>42540</td>\n",
       "      <td>42660</td>\n",
       "      <td>448400</td>\n",
       "      <td>19188227000</td>\n",
       "    </tr>\n",
       "    <tr>\n",
       "      <th>2</th>\n",
       "      <td>2016-12-28</td>\n",
       "      <td>43940</td>\n",
       "      <td>43970</td>\n",
       "      <td>43270</td>\n",
       "      <td>43270</td>\n",
       "      <td>339900</td>\n",
       "      <td>14780670000</td>\n",
       "    </tr>\n",
       "    <tr>\n",
       "      <th>3</th>\n",
       "      <td>2016-12-27</td>\n",
       "      <td>43140</td>\n",
       "      <td>43700</td>\n",
       "      <td>43140</td>\n",
       "      <td>43620</td>\n",
       "      <td>400100</td>\n",
       "      <td>17427993000</td>\n",
       "    </tr>\n",
       "    <tr>\n",
       "      <th>4</th>\n",
       "      <td>2016-12-26</td>\n",
       "      <td>43310</td>\n",
       "      <td>43660</td>\n",
       "      <td>43090</td>\n",
       "      <td>43340</td>\n",
       "      <td>358200</td>\n",
       "      <td>15547803000</td>\n",
       "    </tr>\n",
       "    <tr>\n",
       "      <th>5</th>\n",
       "      <td>2016-12-22</td>\n",
       "      <td>43660</td>\n",
       "      <td>43840</td>\n",
       "      <td>43190</td>\n",
       "      <td>43480</td>\n",
       "      <td>381600</td>\n",
       "      <td>16586491000</td>\n",
       "    </tr>\n",
       "    <tr>\n",
       "      <th>6</th>\n",
       "      <td>2016-12-21</td>\n",
       "      <td>43900</td>\n",
       "      <td>44370</td>\n",
       "      <td>43610</td>\n",
       "      <td>44000</td>\n",
       "      <td>658900</td>\n",
       "      <td>28994316000</td>\n",
       "    </tr>\n",
       "    <tr>\n",
       "      <th>7</th>\n",
       "      <td>2016-12-20</td>\n",
       "      <td>42910</td>\n",
       "      <td>43630</td>\n",
       "      <td>42860</td>\n",
       "      <td>43620</td>\n",
       "      <td>499400</td>\n",
       "      <td>21606102000</td>\n",
       "    </tr>\n",
       "    <tr>\n",
       "      <th>8</th>\n",
       "      <td>2016-12-19</td>\n",
       "      <td>42790</td>\n",
       "      <td>43150</td>\n",
       "      <td>42740</td>\n",
       "      <td>43130</td>\n",
       "      <td>358700</td>\n",
       "      <td>15428531000</td>\n",
       "    </tr>\n",
       "    <tr>\n",
       "      <th>9</th>\n",
       "      <td>2016-12-16</td>\n",
       "      <td>43350</td>\n",
       "      <td>43550</td>\n",
       "      <td>42810</td>\n",
       "      <td>43130</td>\n",
       "      <td>542000</td>\n",
       "      <td>23380606000</td>\n",
       "    </tr>\n",
       "  </tbody>\n",
       "</table>\n",
       "</div>"
      ],
      "text/plain": [
       "         Date   Open   High    Low  Close  Volume  Stock Trading\n",
       "0  2016-12-30  42120  42330  41700  41830  610000    25628028000\n",
       "1  2016-12-29  43000  43220  42540  42660  448400    19188227000\n",
       "2  2016-12-28  43940  43970  43270  43270  339900    14780670000\n",
       "3  2016-12-27  43140  43700  43140  43620  400100    17427993000\n",
       "4  2016-12-26  43310  43660  43090  43340  358200    15547803000\n",
       "5  2016-12-22  43660  43840  43190  43480  381600    16586491000\n",
       "6  2016-12-21  43900  44370  43610  44000  658900    28994316000\n",
       "7  2016-12-20  42910  43630  42860  43620  499400    21606102000\n",
       "8  2016-12-19  42790  43150  42740  43130  358700    15428531000\n",
       "9  2016-12-16  43350  43550  42810  43130  542000    23380606000"
      ]
     },
     "execution_count": 2,
     "metadata": {},
     "output_type": "execute_result"
    }
   ],
   "source": [
    "data = pd.read_csv(\"../input/uniqlo-fastretailing-stock-price-prediction/Uniqlo(FastRetailing) 2012-2016 Training - stocks2012-2016.csv\")\n",
    "data.head(10)"
   ]
  },
  {
   "cell_type": "code",
   "execution_count": 3,
   "metadata": {
    "execution": {
     "iopub.execute_input": "2022-07-02T16:21:29.792474Z",
     "iopub.status.busy": "2022-07-02T16:21:29.792162Z",
     "iopub.status.idle": "2022-07-02T16:21:29.799311Z",
     "shell.execute_reply": "2022-07-02T16:21:29.797976Z",
     "shell.execute_reply.started": "2022-07-02T16:21:29.792435Z"
    }
   },
   "outputs": [
    {
     "data": {
      "text/plain": [
       "(1226, 7)"
      ]
     },
     "execution_count": 3,
     "metadata": {},
     "output_type": "execute_result"
    }
   ],
   "source": [
    "data.shape"
   ]
  },
  {
   "cell_type": "markdown",
   "metadata": {},
   "source": [
    "## EDA ON DATA"
   ]
  },
  {
   "cell_type": "code",
   "execution_count": 4,
   "metadata": {
    "execution": {
     "iopub.execute_input": "2022-07-02T16:21:47.731439Z",
     "iopub.status.busy": "2022-07-02T16:21:47.730781Z",
     "iopub.status.idle": "2022-07-02T16:21:47.770597Z",
     "shell.execute_reply": "2022-07-02T16:21:47.769487Z",
     "shell.execute_reply.started": "2022-07-02T16:21:47.731384Z"
    }
   },
   "outputs": [
    {
     "data": {
      "text/html": [
       "<div>\n",
       "<style scoped>\n",
       "    .dataframe tbody tr th:only-of-type {\n",
       "        vertical-align: middle;\n",
       "    }\n",
       "\n",
       "    .dataframe tbody tr th {\n",
       "        vertical-align: top;\n",
       "    }\n",
       "\n",
       "    .dataframe thead th {\n",
       "        text-align: right;\n",
       "    }\n",
       "</style>\n",
       "<table border=\"1\" class=\"dataframe\">\n",
       "  <thead>\n",
       "    <tr style=\"text-align: right;\">\n",
       "      <th></th>\n",
       "      <th>Open</th>\n",
       "      <th>High</th>\n",
       "      <th>Low</th>\n",
       "      <th>Close</th>\n",
       "      <th>Volume</th>\n",
       "    </tr>\n",
       "  </thead>\n",
       "  <tbody>\n",
       "    <tr>\n",
       "      <th>count</th>\n",
       "      <td>1226.000000</td>\n",
       "      <td>1226.000000</td>\n",
       "      <td>1226.000000</td>\n",
       "      <td>1226.000000</td>\n",
       "      <td>1.226000e+03</td>\n",
       "    </tr>\n",
       "    <tr>\n",
       "      <th>mean</th>\n",
       "      <td>33754.416803</td>\n",
       "      <td>34178.784666</td>\n",
       "      <td>33347.903752</td>\n",
       "      <td>33760.583197</td>\n",
       "      <td>7.275556e+05</td>\n",
       "    </tr>\n",
       "    <tr>\n",
       "      <th>std</th>\n",
       "      <td>10813.440409</td>\n",
       "      <td>10936.326802</td>\n",
       "      <td>10695.664102</td>\n",
       "      <td>10815.661389</td>\n",
       "      <td>4.137178e+05</td>\n",
       "    </tr>\n",
       "    <tr>\n",
       "      <th>min</th>\n",
       "      <td>13720.000000</td>\n",
       "      <td>13840.000000</td>\n",
       "      <td>13600.000000</td>\n",
       "      <td>13720.000000</td>\n",
       "      <td>1.391000e+05</td>\n",
       "    </tr>\n",
       "    <tr>\n",
       "      <th>25%</th>\n",
       "      <td>27788.750000</td>\n",
       "      <td>28091.250000</td>\n",
       "      <td>27401.250000</td>\n",
       "      <td>27675.000000</td>\n",
       "      <td>4.873000e+05</td>\n",
       "    </tr>\n",
       "    <tr>\n",
       "      <th>50%</th>\n",
       "      <td>34445.000000</td>\n",
       "      <td>34835.000000</td>\n",
       "      <td>33925.000000</td>\n",
       "      <td>34412.500000</td>\n",
       "      <td>6.260000e+05</td>\n",
       "    </tr>\n",
       "    <tr>\n",
       "      <th>75%</th>\n",
       "      <td>41412.500000</td>\n",
       "      <td>41900.000000</td>\n",
       "      <td>40810.000000</td>\n",
       "      <td>41365.000000</td>\n",
       "      <td>8.267000e+05</td>\n",
       "    </tr>\n",
       "    <tr>\n",
       "      <th>max</th>\n",
       "      <td>61550.000000</td>\n",
       "      <td>61970.000000</td>\n",
       "      <td>60740.000000</td>\n",
       "      <td>61930.000000</td>\n",
       "      <td>4.937300e+06</td>\n",
       "    </tr>\n",
       "  </tbody>\n",
       "</table>\n",
       "</div>"
      ],
      "text/plain": [
       "               Open          High      ...              Close        Volume\n",
       "count   1226.000000   1226.000000      ...        1226.000000  1.226000e+03\n",
       "mean   33754.416803  34178.784666      ...       33760.583197  7.275556e+05\n",
       "std    10813.440409  10936.326802      ...       10815.661389  4.137178e+05\n",
       "min    13720.000000  13840.000000      ...       13720.000000  1.391000e+05\n",
       "25%    27788.750000  28091.250000      ...       27675.000000  4.873000e+05\n",
       "50%    34445.000000  34835.000000      ...       34412.500000  6.260000e+05\n",
       "75%    41412.500000  41900.000000      ...       41365.000000  8.267000e+05\n",
       "max    61550.000000  61970.000000      ...       61930.000000  4.937300e+06\n",
       "\n",
       "[8 rows x 5 columns]"
      ]
     },
     "execution_count": 4,
     "metadata": {},
     "output_type": "execute_result"
    }
   ],
   "source": [
    "data_num = data.drop([\"Date\",\"Stock Trading\"], axis=1)\n",
    "data_num.describe()\n",
    "#overviwe of data"
   ]
  },
  {
   "cell_type": "markdown",
   "metadata": {},
   "source": [
    "## Yearly data sumary"
   ]
  },
  {
   "cell_type": "code",
   "execution_count": 5,
   "metadata": {
    "execution": {
     "iopub.execute_input": "2022-07-02T16:21:57.032132Z",
     "iopub.status.busy": "2022-07-02T16:21:57.031782Z",
     "iopub.status.idle": "2022-07-02T16:21:57.038654Z",
     "shell.execute_reply": "2022-07-02T16:21:57.037772Z",
     "shell.execute_reply.started": "2022-07-02T16:21:57.032069Z"
    }
   },
   "outputs": [
    {
     "data": {
      "text/plain": [
       "'2012-01-04'"
      ]
     },
     "execution_count": 5,
     "metadata": {},
     "output_type": "execute_result"
    }
   ],
   "source": [
    "#checking range of data\n",
    "min(data['Date'])"
   ]
  },
  {
   "cell_type": "code",
   "execution_count": 6,
   "metadata": {
    "execution": {
     "iopub.execute_input": "2022-07-02T16:21:59.951894Z",
     "iopub.status.busy": "2022-07-02T16:21:59.950931Z",
     "iopub.status.idle": "2022-07-02T16:21:59.959101Z",
     "shell.execute_reply": "2022-07-02T16:21:59.958293Z",
     "shell.execute_reply.started": "2022-07-02T16:21:59.951810Z"
    }
   },
   "outputs": [
    {
     "data": {
      "text/plain": [
       "'2016-12-30'"
      ]
     },
     "execution_count": 6,
     "metadata": {},
     "output_type": "execute_result"
    }
   ],
   "source": [
    "max(data['Date'])"
   ]
  },
  {
   "cell_type": "code",
   "execution_count": 7,
   "metadata": {
    "execution": {
     "iopub.execute_input": "2022-07-02T16:37:37.951552Z",
     "iopub.status.busy": "2022-07-02T16:37:37.951200Z",
     "iopub.status.idle": "2022-07-02T16:37:37.994041Z",
     "shell.execute_reply": "2022-07-02T16:37:37.993204Z",
     "shell.execute_reply.started": "2022-07-02T16:37:37.951477Z"
    }
   },
   "outputs": [
    {
     "data": {
      "text/html": [
       "<div>\n",
       "<style scoped>\n",
       "    .dataframe tbody tr th:only-of-type {\n",
       "        vertical-align: middle;\n",
       "    }\n",
       "\n",
       "    .dataframe tbody tr th {\n",
       "        vertical-align: top;\n",
       "    }\n",
       "\n",
       "    .dataframe thead th {\n",
       "        text-align: right;\n",
       "    }\n",
       "</style>\n",
       "<table border=\"1\" class=\"dataframe\">\n",
       "  <thead>\n",
       "    <tr style=\"text-align: right;\">\n",
       "      <th></th>\n",
       "      <th>Date</th>\n",
       "      <th>Open</th>\n",
       "      <th>High</th>\n",
       "      <th>Low</th>\n",
       "      <th>Close</th>\n",
       "      <th>Volume</th>\n",
       "      <th>Stock Trading</th>\n",
       "    </tr>\n",
       "  </thead>\n",
       "  <tbody>\n",
       "    <tr>\n",
       "      <th>978</th>\n",
       "      <td>2012-12-28</td>\n",
       "      <td>21480</td>\n",
       "      <td>21970</td>\n",
       "      <td>21450</td>\n",
       "      <td>21840</td>\n",
       "      <td>854200</td>\n",
       "      <td>18569214000</td>\n",
       "    </tr>\n",
       "    <tr>\n",
       "      <th>979</th>\n",
       "      <td>2012-12-27</td>\n",
       "      <td>21300</td>\n",
       "      <td>21560</td>\n",
       "      <td>21220</td>\n",
       "      <td>21270</td>\n",
       "      <td>749600</td>\n",
       "      <td>16004759000</td>\n",
       "    </tr>\n",
       "    <tr>\n",
       "      <th>980</th>\n",
       "      <td>2012-12-26</td>\n",
       "      <td>20890</td>\n",
       "      <td>21170</td>\n",
       "      <td>20640</td>\n",
       "      <td>21170</td>\n",
       "      <td>644000</td>\n",
       "      <td>13446134000</td>\n",
       "    </tr>\n",
       "    <tr>\n",
       "      <th>981</th>\n",
       "      <td>2012-12-25</td>\n",
       "      <td>20350</td>\n",
       "      <td>20770</td>\n",
       "      <td>20290</td>\n",
       "      <td>20770</td>\n",
       "      <td>657300</td>\n",
       "      <td>13530926000</td>\n",
       "    </tr>\n",
       "    <tr>\n",
       "      <th>982</th>\n",
       "      <td>2012-12-21</td>\n",
       "      <td>20590</td>\n",
       "      <td>20710</td>\n",
       "      <td>20050</td>\n",
       "      <td>20090</td>\n",
       "      <td>958000</td>\n",
       "      <td>19388002000</td>\n",
       "    </tr>\n",
       "  </tbody>\n",
       "</table>\n",
       "</div>"
      ],
      "text/plain": [
       "           Date   Open   High      ...        Close  Volume  Stock Trading\n",
       "978  2012-12-28  21480  21970      ...        21840  854200    18569214000\n",
       "979  2012-12-27  21300  21560      ...        21270  749600    16004759000\n",
       "980  2012-12-26  20890  21170      ...        21170  644000    13446134000\n",
       "981  2012-12-25  20350  20770      ...        20770  657300    13530926000\n",
       "982  2012-12-21  20590  20710      ...        20090  958000    19388002000\n",
       "\n",
       "[5 rows x 7 columns]"
      ]
     },
     "execution_count": 7,
     "metadata": {},
     "output_type": "execute_result"
    }
   ],
   "source": [
    "data_2012=data.loc[data['Date']<'2013-01-01']\n",
    "data_2012.head()"
   ]
  },
  {
   "cell_type": "code",
   "execution_count": 8,
   "metadata": {
    "execution": {
     "iopub.execute_input": "2022-07-02T16:37:57.831806Z",
     "iopub.status.busy": "2022-07-02T16:37:57.831269Z",
     "iopub.status.idle": "2022-07-02T16:37:57.871726Z",
     "shell.execute_reply": "2022-07-02T16:37:57.870988Z",
     "shell.execute_reply.started": "2022-07-02T16:37:57.831739Z"
    }
   },
   "outputs": [
    {
     "data": {
      "text/html": [
       "<div>\n",
       "<style scoped>\n",
       "    .dataframe tbody tr th:only-of-type {\n",
       "        vertical-align: middle;\n",
       "    }\n",
       "\n",
       "    .dataframe tbody tr th {\n",
       "        vertical-align: top;\n",
       "    }\n",
       "\n",
       "    .dataframe thead th {\n",
       "        text-align: right;\n",
       "    }\n",
       "</style>\n",
       "<table border=\"1\" class=\"dataframe\">\n",
       "  <thead>\n",
       "    <tr style=\"text-align: right;\">\n",
       "      <th></th>\n",
       "      <th>Open</th>\n",
       "      <th>High</th>\n",
       "      <th>Low</th>\n",
       "      <th>Close</th>\n",
       "      <th>Volume</th>\n",
       "      <th>Stock Trading</th>\n",
       "    </tr>\n",
       "  </thead>\n",
       "  <tbody>\n",
       "    <tr>\n",
       "      <th>count</th>\n",
       "      <td>248.000000</td>\n",
       "      <td>248.000000</td>\n",
       "      <td>248.000000</td>\n",
       "      <td>248.000000</td>\n",
       "      <td>2.480000e+02</td>\n",
       "      <td>2.480000e+02</td>\n",
       "    </tr>\n",
       "    <tr>\n",
       "      <th>mean</th>\n",
       "      <td>17133.064516</td>\n",
       "      <td>17316.290323</td>\n",
       "      <td>16977.540323</td>\n",
       "      <td>17156.854839</td>\n",
       "      <td>6.916984e+05</td>\n",
       "      <td>1.189364e+10</td>\n",
       "    </tr>\n",
       "    <tr>\n",
       "      <th>std</th>\n",
       "      <td>1453.617115</td>\n",
       "      <td>1465.918605</td>\n",
       "      <td>1441.941167</td>\n",
       "      <td>1460.383937</td>\n",
       "      <td>4.631358e+05</td>\n",
       "      <td>8.168960e+09</td>\n",
       "    </tr>\n",
       "    <tr>\n",
       "      <th>min</th>\n",
       "      <td>13720.000000</td>\n",
       "      <td>13840.000000</td>\n",
       "      <td>13600.000000</td>\n",
       "      <td>13720.000000</td>\n",
       "      <td>2.295000e+05</td>\n",
       "      <td>3.966140e+09</td>\n",
       "    </tr>\n",
       "    <tr>\n",
       "      <th>25%</th>\n",
       "      <td>15980.000000</td>\n",
       "      <td>16150.000000</td>\n",
       "      <td>15825.000000</td>\n",
       "      <td>15977.500000</td>\n",
       "      <td>4.782250e+05</td>\n",
       "      <td>7.835300e+09</td>\n",
       "    </tr>\n",
       "    <tr>\n",
       "      <th>50%</th>\n",
       "      <td>17220.000000</td>\n",
       "      <td>17405.000000</td>\n",
       "      <td>17170.000000</td>\n",
       "      <td>17305.000000</td>\n",
       "      <td>5.865000e+05</td>\n",
       "      <td>1.023669e+10</td>\n",
       "    </tr>\n",
       "    <tr>\n",
       "      <th>75%</th>\n",
       "      <td>18062.500000</td>\n",
       "      <td>18220.000000</td>\n",
       "      <td>17915.000000</td>\n",
       "      <td>18060.000000</td>\n",
       "      <td>7.552500e+05</td>\n",
       "      <td>1.290124e+10</td>\n",
       "    </tr>\n",
       "    <tr>\n",
       "      <th>max</th>\n",
       "      <td>21480.000000</td>\n",
       "      <td>21970.000000</td>\n",
       "      <td>21450.000000</td>\n",
       "      <td>21840.000000</td>\n",
       "      <td>3.979800e+06</td>\n",
       "      <td>6.706766e+10</td>\n",
       "    </tr>\n",
       "  </tbody>\n",
       "</table>\n",
       "</div>"
      ],
      "text/plain": [
       "               Open          High      ...              Volume  Stock Trading\n",
       "count    248.000000    248.000000      ...        2.480000e+02   2.480000e+02\n",
       "mean   17133.064516  17316.290323      ...        6.916984e+05   1.189364e+10\n",
       "std     1453.617115   1465.918605      ...        4.631358e+05   8.168960e+09\n",
       "min    13720.000000  13840.000000      ...        2.295000e+05   3.966140e+09\n",
       "25%    15980.000000  16150.000000      ...        4.782250e+05   7.835300e+09\n",
       "50%    17220.000000  17405.000000      ...        5.865000e+05   1.023669e+10\n",
       "75%    18062.500000  18220.000000      ...        7.552500e+05   1.290124e+10\n",
       "max    21480.000000  21970.000000      ...        3.979800e+06   6.706766e+10\n",
       "\n",
       "[8 rows x 6 columns]"
      ]
     },
     "execution_count": 8,
     "metadata": {},
     "output_type": "execute_result"
    }
   ],
   "source": [
    "data_2012.describe()"
   ]
  },
  {
   "cell_type": "code",
   "execution_count": 9,
   "metadata": {
    "execution": {
     "iopub.execute_input": "2022-07-02T16:47:11.832574Z",
     "iopub.status.busy": "2022-07-02T16:47:11.831889Z",
     "iopub.status.idle": "2022-07-02T16:47:11.874056Z",
     "shell.execute_reply": "2022-07-02T16:47:11.872770Z",
     "shell.execute_reply.started": "2022-07-02T16:47:11.832150Z"
    }
   },
   "outputs": [
    {
     "data": {
      "text/html": [
       "<div>\n",
       "<style scoped>\n",
       "    .dataframe tbody tr th:only-of-type {\n",
       "        vertical-align: middle;\n",
       "    }\n",
       "\n",
       "    .dataframe tbody tr th {\n",
       "        vertical-align: top;\n",
       "    }\n",
       "\n",
       "    .dataframe thead th {\n",
       "        text-align: right;\n",
       "    }\n",
       "</style>\n",
       "<table border=\"1\" class=\"dataframe\">\n",
       "  <thead>\n",
       "    <tr style=\"text-align: right;\">\n",
       "      <th></th>\n",
       "      <th>Open</th>\n",
       "      <th>High</th>\n",
       "      <th>Low</th>\n",
       "      <th>Close</th>\n",
       "      <th>Volume</th>\n",
       "      <th>Stock Trading</th>\n",
       "    </tr>\n",
       "  </thead>\n",
       "  <tbody>\n",
       "    <tr>\n",
       "      <th>count</th>\n",
       "      <td>245.000000</td>\n",
       "      <td>245.000000</td>\n",
       "      <td>245.000000</td>\n",
       "      <td>245.000000</td>\n",
       "      <td>2.450000e+02</td>\n",
       "      <td>2.450000e+02</td>\n",
       "    </tr>\n",
       "    <tr>\n",
       "      <th>mean</th>\n",
       "      <td>32775.959184</td>\n",
       "      <td>33324.040816</td>\n",
       "      <td>32239.469388</td>\n",
       "      <td>32806.489796</td>\n",
       "      <td>8.648665e+05</td>\n",
       "      <td>2.853352e+10</td>\n",
       "    </tr>\n",
       "    <tr>\n",
       "      <th>std</th>\n",
       "      <td>4890.948775</td>\n",
       "      <td>4991.085701</td>\n",
       "      <td>4753.528987</td>\n",
       "      <td>4888.273096</td>\n",
       "      <td>5.036972e+05</td>\n",
       "      <td>1.739257e+10</td>\n",
       "    </tr>\n",
       "    <tr>\n",
       "      <th>min</th>\n",
       "      <td>22350.000000</td>\n",
       "      <td>22530.000000</td>\n",
       "      <td>22030.000000</td>\n",
       "      <td>22200.000000</td>\n",
       "      <td>3.109000e+05</td>\n",
       "      <td>8.790590e+09</td>\n",
       "    </tr>\n",
       "    <tr>\n",
       "      <th>25%</th>\n",
       "      <td>30350.000000</td>\n",
       "      <td>30900.000000</td>\n",
       "      <td>29850.000000</td>\n",
       "      <td>30400.000000</td>\n",
       "      <td>5.881000e+05</td>\n",
       "      <td>1.779746e+10</td>\n",
       "    </tr>\n",
       "    <tr>\n",
       "      <th>50%</th>\n",
       "      <td>33700.000000</td>\n",
       "      <td>34200.000000</td>\n",
       "      <td>33200.000000</td>\n",
       "      <td>33750.000000</td>\n",
       "      <td>7.249000e+05</td>\n",
       "      <td>2.340737e+10</td>\n",
       "    </tr>\n",
       "    <tr>\n",
       "      <th>75%</th>\n",
       "      <td>36350.000000</td>\n",
       "      <td>36900.000000</td>\n",
       "      <td>35600.000000</td>\n",
       "      <td>36300.000000</td>\n",
       "      <td>1.009900e+06</td>\n",
       "      <td>3.238438e+10</td>\n",
       "    </tr>\n",
       "    <tr>\n",
       "      <th>max</th>\n",
       "      <td>44800.000000</td>\n",
       "      <td>45350.000000</td>\n",
       "      <td>43300.000000</td>\n",
       "      <td>44350.000000</td>\n",
       "      <td>4.937300e+06</td>\n",
       "      <td>1.460450e+11</td>\n",
       "    </tr>\n",
       "  </tbody>\n",
       "</table>\n",
       "</div>"
      ],
      "text/plain": [
       "               Open          High      ...              Volume  Stock Trading\n",
       "count    245.000000    245.000000      ...        2.450000e+02   2.450000e+02\n",
       "mean   32775.959184  33324.040816      ...        8.648665e+05   2.853352e+10\n",
       "std     4890.948775   4991.085701      ...        5.036972e+05   1.739257e+10\n",
       "min    22350.000000  22530.000000      ...        3.109000e+05   8.790590e+09\n",
       "25%    30350.000000  30900.000000      ...        5.881000e+05   1.779746e+10\n",
       "50%    33700.000000  34200.000000      ...        7.249000e+05   2.340737e+10\n",
       "75%    36350.000000  36900.000000      ...        1.009900e+06   3.238438e+10\n",
       "max    44800.000000  45350.000000      ...        4.937300e+06   1.460450e+11\n",
       "\n",
       "[8 rows x 6 columns]"
      ]
     },
     "execution_count": 9,
     "metadata": {},
     "output_type": "execute_result"
    }
   ],
   "source": [
    "data_2013=data.loc[(data['Date']>'2012-12-31') &(data['Date']<'2014-01-01' ) ]\n",
    "data_2013.describe()"
   ]
  },
  {
   "cell_type": "code",
   "execution_count": 10,
   "metadata": {
    "execution": {
     "iopub.execute_input": "2022-07-02T16:48:27.252143Z",
     "iopub.status.busy": "2022-07-02T16:48:27.251797Z",
     "iopub.status.idle": "2022-07-02T16:48:27.295651Z",
     "shell.execute_reply": "2022-07-02T16:48:27.294993Z",
     "shell.execute_reply.started": "2022-07-02T16:48:27.252091Z"
    }
   },
   "outputs": [
    {
     "data": {
      "text/html": [
       "<div>\n",
       "<style scoped>\n",
       "    .dataframe tbody tr th:only-of-type {\n",
       "        vertical-align: middle;\n",
       "    }\n",
       "\n",
       "    .dataframe tbody tr th {\n",
       "        vertical-align: top;\n",
       "    }\n",
       "\n",
       "    .dataframe thead th {\n",
       "        text-align: right;\n",
       "    }\n",
       "</style>\n",
       "<table border=\"1\" class=\"dataframe\">\n",
       "  <thead>\n",
       "    <tr style=\"text-align: right;\">\n",
       "      <th></th>\n",
       "      <th>Open</th>\n",
       "      <th>High</th>\n",
       "      <th>Low</th>\n",
       "      <th>Close</th>\n",
       "      <th>Volume</th>\n",
       "      <th>Stock Trading</th>\n",
       "    </tr>\n",
       "  </thead>\n",
       "  <tbody>\n",
       "    <tr>\n",
       "      <th>count</th>\n",
       "      <td>244.000000</td>\n",
       "      <td>244.000000</td>\n",
       "      <td>244.000000</td>\n",
       "      <td>244.000000</td>\n",
       "      <td>2.440000e+02</td>\n",
       "      <td>2.440000e+02</td>\n",
       "    </tr>\n",
       "    <tr>\n",
       "      <th>mean</th>\n",
       "      <td>36378.422131</td>\n",
       "      <td>36778.319672</td>\n",
       "      <td>36041.946721</td>\n",
       "      <td>36404.877049</td>\n",
       "      <td>6.675967e+05</td>\n",
       "      <td>2.468751e+10</td>\n",
       "    </tr>\n",
       "    <tr>\n",
       "      <th>std</th>\n",
       "      <td>3665.314603</td>\n",
       "      <td>3739.107286</td>\n",
       "      <td>3587.128481</td>\n",
       "      <td>3683.887365</td>\n",
       "      <td>3.626552e+05</td>\n",
       "      <td>1.446380e+10</td>\n",
       "    </tr>\n",
       "    <tr>\n",
       "      <th>min</th>\n",
       "      <td>31210.000000</td>\n",
       "      <td>31620.000000</td>\n",
       "      <td>30950.000000</td>\n",
       "      <td>30950.000000</td>\n",
       "      <td>1.391000e+05</td>\n",
       "      <td>4.528217e+09</td>\n",
       "    </tr>\n",
       "    <tr>\n",
       "      <th>25%</th>\n",
       "      <td>33410.000000</td>\n",
       "      <td>33768.750000</td>\n",
       "      <td>33147.500000</td>\n",
       "      <td>33408.750000</td>\n",
       "      <td>4.515000e+05</td>\n",
       "      <td>1.579266e+10</td>\n",
       "    </tr>\n",
       "    <tr>\n",
       "      <th>50%</th>\n",
       "      <td>35710.000000</td>\n",
       "      <td>36187.500000</td>\n",
       "      <td>35380.000000</td>\n",
       "      <td>35792.500000</td>\n",
       "      <td>5.728000e+05</td>\n",
       "      <td>2.085217e+10</td>\n",
       "    </tr>\n",
       "    <tr>\n",
       "      <th>75%</th>\n",
       "      <td>38001.250000</td>\n",
       "      <td>38460.000000</td>\n",
       "      <td>37668.750000</td>\n",
       "      <td>38031.250000</td>\n",
       "      <td>7.485750e+05</td>\n",
       "      <td>2.966005e+10</td>\n",
       "    </tr>\n",
       "    <tr>\n",
       "      <th>max</th>\n",
       "      <td>45730.000000</td>\n",
       "      <td>45880.000000</td>\n",
       "      <td>45425.000000</td>\n",
       "      <td>45830.000000</td>\n",
       "      <td>2.688800e+06</td>\n",
       "      <td>9.173848e+10</td>\n",
       "    </tr>\n",
       "  </tbody>\n",
       "</table>\n",
       "</div>"
      ],
      "text/plain": [
       "               Open          High      ...              Volume  Stock Trading\n",
       "count    244.000000    244.000000      ...        2.440000e+02   2.440000e+02\n",
       "mean   36378.422131  36778.319672      ...        6.675967e+05   2.468751e+10\n",
       "std     3665.314603   3739.107286      ...        3.626552e+05   1.446380e+10\n",
       "min    31210.000000  31620.000000      ...        1.391000e+05   4.528217e+09\n",
       "25%    33410.000000  33768.750000      ...        4.515000e+05   1.579266e+10\n",
       "50%    35710.000000  36187.500000      ...        5.728000e+05   2.085217e+10\n",
       "75%    38001.250000  38460.000000      ...        7.485750e+05   2.966005e+10\n",
       "max    45730.000000  45880.000000      ...        2.688800e+06   9.173848e+10\n",
       "\n",
       "[8 rows x 6 columns]"
      ]
     },
     "execution_count": 10,
     "metadata": {},
     "output_type": "execute_result"
    }
   ],
   "source": [
    "data_2014=data.loc[(data['Date']>'2013-12-31') &(data['Date']<'2015-01-01' ) ]\n",
    "data_2014.describe()"
   ]
  },
  {
   "cell_type": "code",
   "execution_count": 11,
   "metadata": {
    "execution": {
     "iopub.execute_input": "2022-07-02T16:49:33.452366Z",
     "iopub.status.busy": "2022-07-02T16:49:33.451820Z",
     "iopub.status.idle": "2022-07-02T16:49:33.491393Z",
     "shell.execute_reply": "2022-07-02T16:49:33.490771Z",
     "shell.execute_reply.started": "2022-07-02T16:49:33.452298Z"
    }
   },
   "outputs": [
    {
     "data": {
      "text/html": [
       "<div>\n",
       "<style scoped>\n",
       "    .dataframe tbody tr th:only-of-type {\n",
       "        vertical-align: middle;\n",
       "    }\n",
       "\n",
       "    .dataframe tbody tr th {\n",
       "        vertical-align: top;\n",
       "    }\n",
       "\n",
       "    .dataframe thead th {\n",
       "        text-align: right;\n",
       "    }\n",
       "</style>\n",
       "<table border=\"1\" class=\"dataframe\">\n",
       "  <thead>\n",
       "    <tr style=\"text-align: right;\">\n",
       "      <th></th>\n",
       "      <th>Open</th>\n",
       "      <th>High</th>\n",
       "      <th>Low</th>\n",
       "      <th>Close</th>\n",
       "      <th>Volume</th>\n",
       "      <th>Stock Trading</th>\n",
       "    </tr>\n",
       "  </thead>\n",
       "  <tbody>\n",
       "    <tr>\n",
       "      <th>count</th>\n",
       "      <td>244.000000</td>\n",
       "      <td>244.000000</td>\n",
       "      <td>244.000000</td>\n",
       "      <td>244.000000</td>\n",
       "      <td>2.440000e+02</td>\n",
       "      <td>2.440000e+02</td>\n",
       "    </tr>\n",
       "    <tr>\n",
       "      <th>mean</th>\n",
       "      <td>48498.872951</td>\n",
       "      <td>49035.348361</td>\n",
       "      <td>47992.930328</td>\n",
       "      <td>48505.819672</td>\n",
       "      <td>6.344734e+05</td>\n",
       "      <td>3.070526e+10</td>\n",
       "    </tr>\n",
       "    <tr>\n",
       "      <th>std</th>\n",
       "      <td>4640.813845</td>\n",
       "      <td>4712.866897</td>\n",
       "      <td>4621.061878</td>\n",
       "      <td>4705.244704</td>\n",
       "      <td>3.130859e+05</td>\n",
       "      <td>1.506766e+10</td>\n",
       "    </tr>\n",
       "    <tr>\n",
       "      <th>min</th>\n",
       "      <td>41550.000000</td>\n",
       "      <td>41900.000000</td>\n",
       "      <td>40610.000000</td>\n",
       "      <td>41370.000000</td>\n",
       "      <td>2.545000e+05</td>\n",
       "      <td>1.308482e+10</td>\n",
       "    </tr>\n",
       "    <tr>\n",
       "      <th>25%</th>\n",
       "      <td>44645.000000</td>\n",
       "      <td>45158.750000</td>\n",
       "      <td>44146.250000</td>\n",
       "      <td>44520.000000</td>\n",
       "      <td>4.656500e+05</td>\n",
       "      <td>2.218232e+10</td>\n",
       "    </tr>\n",
       "    <tr>\n",
       "      <th>50%</th>\n",
       "      <td>47440.000000</td>\n",
       "      <td>47930.000000</td>\n",
       "      <td>47030.000000</td>\n",
       "      <td>47505.000000</td>\n",
       "      <td>5.537500e+05</td>\n",
       "      <td>2.651109e+10</td>\n",
       "    </tr>\n",
       "    <tr>\n",
       "      <th>75%</th>\n",
       "      <td>50902.500000</td>\n",
       "      <td>51392.500000</td>\n",
       "      <td>50520.000000</td>\n",
       "      <td>50885.000000</td>\n",
       "      <td>6.971000e+05</td>\n",
       "      <td>3.373860e+10</td>\n",
       "    </tr>\n",
       "    <tr>\n",
       "      <th>max</th>\n",
       "      <td>61550.000000</td>\n",
       "      <td>61970.000000</td>\n",
       "      <td>60740.000000</td>\n",
       "      <td>61930.000000</td>\n",
       "      <td>2.522700e+06</td>\n",
       "      <td>1.115116e+11</td>\n",
       "    </tr>\n",
       "  </tbody>\n",
       "</table>\n",
       "</div>"
      ],
      "text/plain": [
       "               Open          High      ...              Volume  Stock Trading\n",
       "count    244.000000    244.000000      ...        2.440000e+02   2.440000e+02\n",
       "mean   48498.872951  49035.348361      ...        6.344734e+05   3.070526e+10\n",
       "std     4640.813845   4712.866897      ...        3.130859e+05   1.506766e+10\n",
       "min    41550.000000  41900.000000      ...        2.545000e+05   1.308482e+10\n",
       "25%    44645.000000  45158.750000      ...        4.656500e+05   2.218232e+10\n",
       "50%    47440.000000  47930.000000      ...        5.537500e+05   2.651109e+10\n",
       "75%    50902.500000  51392.500000      ...        6.971000e+05   3.373860e+10\n",
       "max    61550.000000  61970.000000      ...        2.522700e+06   1.115116e+11\n",
       "\n",
       "[8 rows x 6 columns]"
      ]
     },
     "execution_count": 11,
     "metadata": {},
     "output_type": "execute_result"
    }
   ],
   "source": [
    "data_2015=data.loc[(data['Date']>'2014-12-31') &(data['Date']<'2016-01-01' ) ]\n",
    "data_2015.describe()"
   ]
  },
  {
   "cell_type": "code",
   "execution_count": 12,
   "metadata": {
    "execution": {
     "iopub.execute_input": "2022-07-02T16:50:04.831939Z",
     "iopub.status.busy": "2022-07-02T16:50:04.831399Z",
     "iopub.status.idle": "2022-07-02T16:50:04.873014Z",
     "shell.execute_reply": "2022-07-02T16:50:04.871945Z",
     "shell.execute_reply.started": "2022-07-02T16:50:04.831891Z"
    }
   },
   "outputs": [
    {
     "data": {
      "text/html": [
       "<div>\n",
       "<style scoped>\n",
       "    .dataframe tbody tr th:only-of-type {\n",
       "        vertical-align: middle;\n",
       "    }\n",
       "\n",
       "    .dataframe tbody tr th {\n",
       "        vertical-align: top;\n",
       "    }\n",
       "\n",
       "    .dataframe thead th {\n",
       "        text-align: right;\n",
       "    }\n",
       "</style>\n",
       "<table border=\"1\" class=\"dataframe\">\n",
       "  <thead>\n",
       "    <tr style=\"text-align: right;\">\n",
       "      <th></th>\n",
       "      <th>Open</th>\n",
       "      <th>High</th>\n",
       "      <th>Low</th>\n",
       "      <th>Close</th>\n",
       "      <th>Volume</th>\n",
       "      <th>Stock Trading</th>\n",
       "    </tr>\n",
       "  </thead>\n",
       "  <tbody>\n",
       "    <tr>\n",
       "      <th>count</th>\n",
       "      <td>245.000000</td>\n",
       "      <td>245.000000</td>\n",
       "      <td>245.000000</td>\n",
       "      <td>245.000000</td>\n",
       "      <td>2.450000e+02</td>\n",
       "      <td>2.450000e+02</td>\n",
       "    </tr>\n",
       "    <tr>\n",
       "      <th>mean</th>\n",
       "      <td>34260.183673</td>\n",
       "      <td>34717.653061</td>\n",
       "      <td>33758.857143</td>\n",
       "      <td>34203.163265</td>\n",
       "      <td>7.789576e+05</td>\n",
       "      <td>2.640679e+10</td>\n",
       "    </tr>\n",
       "    <tr>\n",
       "      <th>std</th>\n",
       "      <td>4456.339754</td>\n",
       "      <td>4453.292678</td>\n",
       "      <td>4475.281670</td>\n",
       "      <td>4465.803961</td>\n",
       "      <td>3.531643e+05</td>\n",
       "      <td>1.204392e+10</td>\n",
       "    </tr>\n",
       "    <tr>\n",
       "      <th>min</th>\n",
       "      <td>26000.000000</td>\n",
       "      <td>26070.000000</td>\n",
       "      <td>25305.000000</td>\n",
       "      <td>25445.000000</td>\n",
       "      <td>3.399000e+05</td>\n",
       "      <td>1.226023e+10</td>\n",
       "    </tr>\n",
       "    <tr>\n",
       "      <th>25%</th>\n",
       "      <td>30550.000000</td>\n",
       "      <td>31280.000000</td>\n",
       "      <td>30150.000000</td>\n",
       "      <td>30490.000000</td>\n",
       "      <td>5.420000e+05</td>\n",
       "      <td>1.815842e+10</td>\n",
       "    </tr>\n",
       "    <tr>\n",
       "      <th>50%</th>\n",
       "      <td>34500.000000</td>\n",
       "      <td>34900.000000</td>\n",
       "      <td>33900.000000</td>\n",
       "      <td>34490.000000</td>\n",
       "      <td>6.935000e+05</td>\n",
       "      <td>2.305836e+10</td>\n",
       "    </tr>\n",
       "    <tr>\n",
       "      <th>75%</th>\n",
       "      <td>36920.000000</td>\n",
       "      <td>37360.000000</td>\n",
       "      <td>36470.000000</td>\n",
       "      <td>36890.000000</td>\n",
       "      <td>8.977000e+05</td>\n",
       "      <td>3.159018e+10</td>\n",
       "    </tr>\n",
       "    <tr>\n",
       "      <th>max</th>\n",
       "      <td>43950.000000</td>\n",
       "      <td>44370.000000</td>\n",
       "      <td>43610.000000</td>\n",
       "      <td>44000.000000</td>\n",
       "      <td>2.502700e+06</td>\n",
       "      <td>9.334531e+10</td>\n",
       "    </tr>\n",
       "  </tbody>\n",
       "</table>\n",
       "</div>"
      ],
      "text/plain": [
       "               Open          High      ...              Volume  Stock Trading\n",
       "count    245.000000    245.000000      ...        2.450000e+02   2.450000e+02\n",
       "mean   34260.183673  34717.653061      ...        7.789576e+05   2.640679e+10\n",
       "std     4456.339754   4453.292678      ...        3.531643e+05   1.204392e+10\n",
       "min    26000.000000  26070.000000      ...        3.399000e+05   1.226023e+10\n",
       "25%    30550.000000  31280.000000      ...        5.420000e+05   1.815842e+10\n",
       "50%    34500.000000  34900.000000      ...        6.935000e+05   2.305836e+10\n",
       "75%    36920.000000  37360.000000      ...        8.977000e+05   3.159018e+10\n",
       "max    43950.000000  44370.000000      ...        2.502700e+06   9.334531e+10\n",
       "\n",
       "[8 rows x 6 columns]"
      ]
     },
     "execution_count": 12,
     "metadata": {},
     "output_type": "execute_result"
    }
   ],
   "source": [
    "data_2016=data.loc[(data['Date']>'2015-12-31') &(data['Date']<'2017-01-01' ) ]\n",
    "data_2016.describe()"
   ]
  },
  {
   "cell_type": "markdown",
   "metadata": {},
   "source": [
    "# EDA"
   ]
  },
  {
   "cell_type": "markdown",
   "metadata": {},
   "source": [
    "##  OPEN VS LOW"
   ]
  },
  {
   "cell_type": "markdown",
   "metadata": {},
   "source": [
    "##  ploting data of low vs time"
   ]
  },
  {
   "cell_type": "markdown",
   "metadata": {},
   "source": [
    "### **i.\tQUESTION1**"
   ]
  },
  {
   "cell_type": "markdown",
   "metadata": {},
   "source": [
    "#### plot data for all periods to the low value of stock and study this graph in relation to change in the open value."
   ]
  },
  {
   "cell_type": "code",
   "execution_count": 13,
   "metadata": {
    "execution": {
     "iopub.execute_input": "2022-07-02T19:30:50.284696Z",
     "iopub.status.busy": "2022-07-02T19:30:50.284368Z",
     "iopub.status.idle": "2022-07-02T19:31:14.805508Z",
     "shell.execute_reply": "2022-07-02T19:31:14.804711Z",
     "shell.execute_reply.started": "2022-07-02T19:30:50.284638Z"
    }
   },
   "outputs": [
    {
     "data": {
      "image/png": "[encoded data removed]",
      "text/plain": [
       "<Figure size 720x432 with 1 Axes>"
      ]
     },
     "metadata": {},
     "output_type": "display_data"
    }
   ],
   "source": [
    "plt.figure(figsize=(10,6))\n",
    "plt.plot(data['Date'],data['Low'])\n",
    "plt.show()"
   ]
  },
  {
   "cell_type": "code",
   "execution_count": 14,
   "metadata": {
    "execution": {
     "iopub.execute_input": "2022-07-02T19:35:17.434528Z",
     "iopub.status.busy": "2022-07-02T19:35:17.434220Z",
     "iopub.status.idle": "2022-07-02T19:35:41.994365Z",
     "shell.execute_reply": "2022-07-02T19:35:41.993564Z",
     "shell.execute_reply.started": "2022-07-02T19:35:17.434470Z"
    }
   },
   "outputs": [
    {
     "data": {
      "image/png": "[encoded data removed]",
      "text/plain": [
       "<Figure size 720x432 with 1 Axes>"
      ]
     },
     "metadata": {},
     "output_type": "display_data"
    }
   ],
   "source": [
    "plt.figure(figsize=(10,6))\n",
    "plt.plot(data['Date'],data['Open']-data['Low'])\n",
    "plt.show()"
   ]
  },
  {
   "cell_type": "code",
   "execution_count": 15,
   "metadata": {
    "execution": {
     "iopub.execute_input": "2022-07-02T19:36:59.190519Z",
     "iopub.status.busy": "2022-07-02T19:36:59.190081Z",
     "iopub.status.idle": "2022-07-02T19:36:59.199171Z",
     "shell.execute_reply": "2022-07-02T19:36:59.197720Z",
     "shell.execute_reply.started": "2022-07-02T19:36:59.190471Z"
    }
   },
   "outputs": [
    {
     "data": {
      "text/plain": [
       "406.5130505709625"
      ]
     },
     "execution_count": 15,
     "metadata": {},
     "output_type": "execute_result"
    }
   ],
   "source": [
    "diff_open_low=data['Open']-data['Low']\n",
    "diff_open_low.mean()"
   ]
  },
  {
   "cell_type": "code",
   "execution_count": 16,
   "metadata": {
    "execution": {
     "iopub.execute_input": "2022-07-02T19:37:07.879364Z",
     "iopub.status.busy": "2022-07-02T19:37:07.879062Z",
     "iopub.status.idle": "2022-07-02T19:37:07.887384Z",
     "shell.execute_reply": "2022-07-02T19:37:07.885794Z",
     "shell.execute_reply.started": "2022-07-02T19:37:07.879310Z"
    }
   },
   "outputs": [
    {
     "data": {
      "text/plain": [
       "461.7362249836983"
      ]
     },
     "execution_count": 16,
     "metadata": {},
     "output_type": "execute_result"
    }
   ],
   "source": [
    "diff_open_low.std()"
   ]
  },
  {
   "cell_type": "markdown",
   "metadata": {},
   "source": [
    "### **\tDescription about the distribution**"
   ]
  },
  {
   "cell_type": "markdown",
   "metadata": {},
   "source": [
    "The above plot shows that:\n",
    "much difference could not be seen between high and low values except few data points in 2016 end and 2012 starting.\n",
    "1. mean is about :406.51\n",
    "2. standard deviation of: 461.73"
   ]
  },
  {
   "cell_type": "markdown",
   "metadata": {},
   "source": [
    "\n"
   ]
  },
  {
   "cell_type": "markdown",
   "metadata": {},
   "source": [
    "## PRICE CHANGE ."
   ]
  },
  {
   "cell_type": "markdown",
   "metadata": {},
   "source": [
    "### **i.\tQUESTION2**"
   ]
  },
  {
   "cell_type": "markdown",
   "metadata": {},
   "source": [
    "Analyze price change within a day using standard deviation."
   ]
  },
  {
   "cell_type": "code",
   "execution_count": 17,
   "metadata": {
    "execution": {
     "iopub.execute_input": "2022-07-02T19:40:24.064810Z",
     "iopub.status.busy": "2022-07-02T19:40:24.064479Z",
     "iopub.status.idle": "2022-07-02T19:40:24.073716Z",
     "shell.execute_reply": "2022-07-02T19:40:24.071562Z",
     "shell.execute_reply.started": "2022-07-02T19:40:24.064769Z"
    }
   },
   "outputs": [
    {
     "data": {
      "text/plain": [
       "638.6869253601413"
      ]
     },
     "execution_count": 17,
     "metadata": {},
     "output_type": "execute_result"
    }
   ],
   "source": [
    "diff_open_close=data['Open']-data['Close']\n",
    "std_open_close=np.std(diff_open_close)\n",
    "std_open_close"
   ]
  },
  {
   "cell_type": "markdown",
   "metadata": {},
   "source": [
    "**price change=638.68**"
   ]
  },
  {
   "cell_type": "markdown",
   "metadata": {},
   "source": [
    "## QUARTILE DATA ANALYSIS BY VOLUME ."
   ]
  },
  {
   "cell_type": "markdown",
   "metadata": {},
   "source": [
    "### **i.\tQUESTION3**"
   ]
  },
  {
   "cell_type": "markdown",
   "metadata": {},
   "source": [
    "**use a suitable plot to show the change in median of open,high ,low and close in each quartile as per volume.**"
   ]
  },
  {
   "cell_type": "code",
   "execution_count": 18,
   "metadata": {
    "execution": {
     "iopub.execute_input": "2022-07-02T19:43:14.791108Z",
     "iopub.status.busy": "2022-07-02T19:43:14.790699Z",
     "iopub.status.idle": "2022-07-02T19:43:14.804340Z",
     "shell.execute_reply": "2022-07-02T19:43:14.802397Z",
     "shell.execute_reply.started": "2022-07-02T19:43:14.791046Z"
    }
   },
   "outputs": [
    {
     "data": {
      "text/plain": [
       "0.00     139100.0\n",
       "0.25     487300.0\n",
       "0.50     626000.0\n",
       "0.75     826700.0\n",
       "1.00    4937300.0\n",
       "Name: Volume, dtype: float64"
      ]
     },
     "execution_count": 18,
     "metadata": {},
     "output_type": "execute_result"
    }
   ],
   "source": [
    "quantile_data_volume=data['Volume'].quantile([0.00,0.25,0.50,0.75,1.0])\n",
    "quantile_data_volume"
   ]
  },
  {
   "cell_type": "code",
   "execution_count": 19,
   "metadata": {
    "execution": {
     "iopub.execute_input": "2022-07-02T19:48:55.669463Z",
     "iopub.status.busy": "2022-07-02T19:48:55.669158Z",
     "iopub.status.idle": "2022-07-02T19:48:55.684079Z",
     "shell.execute_reply": "2022-07-02T19:48:55.683353Z",
     "shell.execute_reply.started": "2022-07-02T19:48:55.669408Z"
    }
   },
   "outputs": [],
   "source": [
    "data_q1=data.loc[(data['Volume']>139100)&(data['Volume']<=487300)]\n",
    "data_q2=data.loc[(data['Volume']>487300)&(data['Volume']<=626000)]\n",
    "data_q3=data.loc[(data['Volume']>626000)&(data['Volume']<=826700)]\n",
    "data_q4=data.loc[(data['Volume']>826700)&(data['Volume']<=4937300)]"
   ]
  },
  {
   "cell_type": "code",
   "execution_count": 20,
   "metadata": {
    "execution": {
     "iopub.execute_input": "2022-07-02T19:49:30.799590Z",
     "iopub.status.busy": "2022-07-02T19:49:30.799293Z",
     "iopub.status.idle": "2022-07-02T19:49:31.011707Z",
     "shell.execute_reply": "2022-07-02T19:49:31.011081Z",
     "shell.execute_reply.started": "2022-07-02T19:49:30.799520Z"
    }
   },
   "outputs": [
    {
     "data": {
      "image/png": "[encoded data removed]",
      "text/plain": [
       "<Figure size 720x432 with 1 Axes>"
      ]
     },
     "metadata": {},
     "output_type": "display_data"
    }
   ],
   "source": [
    "plt.figure(figsize=(10,6))\n",
    "plt.plot(data_q1.median()[0:4],'red')\n",
    "plt.plot(data_q2.median()[0:4],'blue')\n",
    "plt.plot(data_q3.median()[0:4],'green')\n",
    "plt.plot(data_q4.median()[0:4],'yellow')\n",
    "plt.show()\n"
   ]
  },
  {
   "cell_type": "markdown",
   "metadata": {},
   "source": [
    "### **ii.\tDescription about the distribution**"
   ]
  },
  {
   "cell_type": "markdown",
   "metadata": {},
   "source": [
    "the data has been divided into four quartile:\n",
    "**red:Q1\n",
    "**blue:Q2\n",
    "**green:Q3\n",
    "**Yellow:Q4"
   ]
  },
  {
   "cell_type": "markdown",
   "metadata": {},
   "source": [
    "## MEAN VOLUME VS ORIGINAL VOLUME"
   ]
  },
  {
   "cell_type": "markdown",
   "metadata": {},
   "source": [
    "### **i.\tQUESTION4**"
   ]
  },
  {
   "cell_type": "markdown",
   "metadata": {},
   "source": [
    "### **i.\tgiven that difference between high and low is below averageand of open and close is below average, fing mean volume and compare it to original volume**"
   ]
  },
  {
   "cell_type": "code",
   "execution_count": 21,
   "metadata": {},
   "outputs": [],
   "source": [
    "diff_high_low=data['High']-data['Low']\n",
    "diff_open_close=data['Open']-data['Close']\n",
    "mean_hl=diff_high_low.mean()\n",
    "mean_oc=diff_open_close.mean()"
   ]
  },
  {
   "cell_type": "code",
   "execution_count": 22,
   "metadata": {
    "execution": {
     "iopub.execute_input": "2022-07-02T20:05:03.450521Z",
     "iopub.status.busy": "2022-07-02T20:05:03.449940Z",
     "iopub.status.idle": "2022-07-02T20:05:03.460995Z",
     "shell.execute_reply": "2022-07-02T20:05:03.459992Z",
     "shell.execute_reply.started": "2022-07-02T20:05:03.450450Z"
    }
   },
   "outputs": [
    {
     "data": {
      "text/plain": [
       "306266.4939701633"
      ]
     },
     "execution_count": 22,
     "metadata": {},
     "output_type": "execute_result"
    }
   ],
   "source": [
    "data_volume=data.loc[(diff_high_low<mean_hl)&(diff_open_close<mean_oc)]\n",
    "data_volume_mean=data_volume['Volume'].mean()\n",
    "diff_orig_mean=data_volume['Volume']-data_volume_mean\n",
    "std_volume=np.std(diff_orig_mean)\n",
    "std_volume"
   ]
  },
  {
   "cell_type": "code",
   "execution_count": 23,
   "metadata": {
    "execution": {
     "iopub.execute_input": "2022-07-02T20:04:12.580920Z",
     "iopub.status.busy": "2022-07-02T20:04:12.580313Z",
     "iopub.status.idle": "2022-07-02T20:04:18.479191Z",
     "shell.execute_reply": "2022-07-02T20:04:18.477917Z",
     "shell.execute_reply.started": "2022-07-02T20:04:12.580846Z"
    }
   },
   "outputs": [
    {
     "data": {
      "image/png": "[encoded data removed]",
      "text/plain": [
       "<Figure size 720x432 with 1 Axes>"
      ]
     },
     "metadata": {},
     "output_type": "display_data"
    }
   ],
   "source": [
    "plt.figure(figsize=(10,6))\n",
    "plt.plot(data_volume['Date'],diff_orig_mean)\n",
    "plt.show()"
   ]
  },
  {
   "cell_type": "markdown",
   "metadata": {},
   "source": [
    "### **ii.\tDescription about distribution**"
   ]
  },
  {
   "cell_type": "markdown",
   "metadata": {},
   "source": [
    "the plot of difference in original volume and mean when other quantities are below average.\n",
    "the graph shows how much variation dose the data go."
   ]
  },
  {
   "cell_type": "markdown",
   "metadata": {},
   "source": [
    "## STOCK TRADING"
   ]
  },
  {
   "cell_type": "markdown",
   "metadata": {},
   "source": [
    "### **i.\tQUESTION5**"
   ]
  },
  {
   "cell_type": "markdown",
   "metadata": {},
   "source": [
    "### **i.\tDistribution OPEN VS CLOSE**"
   ]
  },
  {
   "cell_type": "code",
   "execution_count": 24,
   "metadata": {
    "execution": {
     "iopub.execute_input": "2022-07-02T20:13:39.857921Z",
     "iopub.status.busy": "2022-07-02T20:13:39.857573Z",
     "iopub.status.idle": "2022-07-02T20:14:04.690398Z",
     "shell.execute_reply": "2022-07-02T20:14:04.689731Z",
     "shell.execute_reply.started": "2022-07-02T20:13:39.857870Z"
    }
   },
   "outputs": [
    {
     "data": {
      "image/png": "[encoded data removed]",
      "text/plain": [
       "<Figure size 720x432 with 1 Axes>"
      ]
     },
     "metadata": {},
     "output_type": "display_data"
    }
   ],
   "source": [
    "plt.figure(figsize=(10,6))\n",
    "plt.plot(data['Date'],data['Open'],'red')\n",
    "plt.plot(data['Date'],data['Close'])\n",
    "plt.show()"
   ]
  },
  {
   "cell_type": "code",
   "execution_count": 25,
   "metadata": {
    "execution": {
     "iopub.execute_input": "2022-07-02T20:15:13.493038Z",
     "iopub.status.busy": "2022-07-02T20:15:13.492317Z",
     "iopub.status.idle": "2022-07-02T20:15:13.501113Z",
     "shell.execute_reply": "2022-07-02T20:15:13.500376Z",
     "shell.execute_reply.started": "2022-07-02T20:15:13.492966Z"
    }
   },
   "outputs": [
    {
     "data": {
      "text/plain": [
       "-6.166394779771615"
      ]
     },
     "execution_count": 25,
     "metadata": {},
     "output_type": "execute_result"
    }
   ],
   "source": [
    "diff_open_close=data['Open']-data['Close']\n",
    "mean_oc=diff_open_close.mean()\n",
    "mean_oc"
   ]
  },
  {
   "cell_type": "markdown",
   "metadata": {},
   "source": [
    "**STOCK TRADING VS TIME**"
   ]
  },
  {
   "cell_type": "code",
   "execution_count": 26,
   "metadata": {
    "execution": {
     "iopub.execute_input": "2022-07-02T20:15:42.933083Z",
     "iopub.status.busy": "2022-07-02T20:15:42.932377Z",
     "iopub.status.idle": "2022-07-02T20:16:07.087178Z",
     "shell.execute_reply": "2022-07-02T20:16:07.086255Z",
     "shell.execute_reply.started": "2022-07-02T20:15:42.933023Z"
    }
   },
   "outputs": [
    {
     "data": {
      "image/png": "[encoded data removed]",
      "text/plain": [
       "<Figure size 720x432 with 1 Axes>"
      ]
     },
     "metadata": {},
     "output_type": "display_data"
    }
   ],
   "source": [
    "plt.figure(figsize=(10,6))\n",
    "plt.plot(data['Date'],data['Stock Trading'],'red')\n",
    "plt.show()"
   ]
  },
  {
   "cell_type": "markdown",
   "metadata": {},
   "source": [
    "### **ii.\tDescription about distribution**"
   ]
  },
  {
   "cell_type": "markdown",
   "metadata": {},
   "source": [
    "\n",
    "** this plot shows stock trading vs time.\n",
    "\n",
    "some days lies far above other day arounds. \n",
    "It could be clearly sean by sharp pearks ."
   ]
  },
  {
   "cell_type": "markdown",
   "metadata": {},
   "source": [
    "## PERCENTAGE CHANGE IN MEDIAN"
   ]
  },
  {
   "cell_type": "code",
   "execution_count": 27,
   "metadata": {},
   "outputs": [],
   "source": []
  },
  {
   "cell_type": "markdown",
   "metadata": {},
   "source": [
    "### **i.\tQUESTION6**"
   ]
  },
  {
   "cell_type": "markdown",
   "metadata": {},
   "source": [
    "### **Find the percentage change in the median of stock trading if difference between high and low is below average and of open and close is above average**"
   ]
  },
  {
   "cell_type": "code",
   "execution_count": 27,
   "metadata": {
    "execution": {
     "iopub.execute_input": "2022-07-02T20:22:36.377272Z",
     "iopub.status.busy": "2022-07-02T20:22:36.376784Z",
     "iopub.status.idle": "2022-07-02T20:22:36.385698Z",
     "shell.execute_reply": "2022-07-02T20:22:36.384269Z",
     "shell.execute_reply.started": "2022-07-02T20:22:36.377198Z"
    }
   },
   "outputs": [],
   "source": [
    "data_stock=data.loc[(diff_high_low<mean_hl)&(diff_open_close>mean_oc)]\n"
   ]
  },
  {
   "cell_type": "code",
   "execution_count": 28,
   "metadata": {
    "execution": {
     "iopub.execute_input": "2022-07-02T20:22:44.792931Z",
     "iopub.status.busy": "2022-07-02T20:22:44.792627Z",
     "iopub.status.idle": "2022-07-02T20:22:44.800315Z",
     "shell.execute_reply": "2022-07-02T20:22:44.799667Z",
     "shell.execute_reply.started": "2022-07-02T20:22:44.792880Z"
    }
   },
   "outputs": [
    {
     "data": {
      "text/plain": [
       "25.284182285526878"
      ]
     },
     "execution_count": 28,
     "metadata": {},
     "output_type": "execute_result"
    }
   ],
   "source": [
    "st_whole_median=data['Stock Trading'].median()\n",
    "st_condi_median=data_stock['Stock Trading'].median()\n",
    "percentage_change=((st_whole_median-st_condi_median)/st_whole_median)*100\n",
    "percentage_change"
   ]
  },
  {
   "cell_type": "markdown",
   "metadata": {},
   "source": [
    "### **ii.\tthe percentage change:25.28%**"
   ]
  },
  {
   "cell_type": "markdown",
   "metadata": {},
   "source": [
    "\n"
   ]
  }
 ],
 "metadata": {
  "kernelspec": {
   "display_name": "Python 3",
   "language": "python",
   "name": "python3"
  },
  "language_info": {
   "codemirror_mode": {
    "name": "ipython",
    "version": 3
   },
   "file_extension": ".py",
   "mimetype": "text/x-python",
   "name": "python",
   "nbconvert_exporter": "python",
   "pygments_lexer": "ipython3",
   "version": "3.6.4"
  }
 },
 "nbformat": 4,
 "nbformat_minor": 4
}
